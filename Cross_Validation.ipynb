{
  "nbformat": 4,
  "nbformat_minor": 0,
  "metadata": {
    "colab": {
      "name": "Cross Validation.ipynb",
      "provenance": [],
      "collapsed_sections": [],
      "authorship_tag": "ABX9TyOtCvMnRXQVeOI5YyW+JX8S",
      "include_colab_link": true
    },
    "kernelspec": {
      "name": "python3",
      "display_name": "Python 3"
    }
  },
  "cells": [
    {
      "cell_type": "markdown",
      "metadata": {
        "id": "view-in-github",
        "colab_type": "text"
      },
      "source": [
        "<a href=\"https://colab.research.google.com/github/android-kunjapppan/Fast-AI/blob/master/Cross_Validation.ipynb\" target=\"_parent\"><img src=\"https://colab.research.google.com/assets/colab-badge.svg\" alt=\"Open In Colab\"/></a>"
      ]
    },
    {
      "cell_type": "code",
      "metadata": {
        "id": "fuKhLGEBL2qz",
        "colab_type": "code",
        "colab": {}
      },
      "source": [
        "import pandas as pd\n",
        "import numpy as np"
      ],
      "execution_count": 15,
      "outputs": []
    },
    {
      "cell_type": "markdown",
      "metadata": {
        "id": "DOWyy0U-J9Dv",
        "colab_type": "text"
      },
      "source": [
        "# Cross Validation :\n",
        "  A technique which ensures that our model fits the data accurately adn also ensures that the model doesn't overfit."
      ]
    },
    {
      "cell_type": "markdown",
      "metadata": {
        "id": "8EKQCRf2LlH6",
        "colab_type": "text"
      },
      "source": [
        "# Overfitting:"
      ]
    },
    {
      "cell_type": "code",
      "metadata": {
        "id": "uqX28LpHJNGD",
        "colab_type": "code",
        "colab": {}
      },
      "source": [
        "df = pd.read_csv('/content/winequality-red.csv')"
      ],
      "execution_count": 13,
      "outputs": []
    },
    {
      "cell_type": "code",
      "metadata": {
        "id": "Ea25vRMOJ1v2",
        "colab_type": "code",
        "colab": {
          "base_uri": "https://localhost:8080/",
          "height": 204
        },
        "outputId": "deb4acfc-78e1-4567-b90f-66fa44de7b35"
      },
      "source": [
        "df.head()"
      ],
      "execution_count": 14,
      "outputs": [
        {
          "output_type": "execute_result",
          "data": {
            "text/html": [
              "<div>\n",
              "<style scoped>\n",
              "    .dataframe tbody tr th:only-of-type {\n",
              "        vertical-align: middle;\n",
              "    }\n",
              "\n",
              "    .dataframe tbody tr th {\n",
              "        vertical-align: top;\n",
              "    }\n",
              "\n",
              "    .dataframe thead th {\n",
              "        text-align: right;\n",
              "    }\n",
              "</style>\n",
              "<table border=\"1\" class=\"dataframe\">\n",
              "  <thead>\n",
              "    <tr style=\"text-align: right;\">\n",
              "      <th></th>\n",
              "      <th>fixed acidity</th>\n",
              "      <th>volatile acidity</th>\n",
              "      <th>citric acid</th>\n",
              "      <th>residual sugar</th>\n",
              "      <th>chlorides</th>\n",
              "      <th>free sulfur dioxide</th>\n",
              "      <th>total sulfur dioxide</th>\n",
              "      <th>density</th>\n",
              "      <th>pH</th>\n",
              "      <th>sulphates</th>\n",
              "      <th>alcohol</th>\n",
              "      <th>quality</th>\n",
              "    </tr>\n",
              "  </thead>\n",
              "  <tbody>\n",
              "    <tr>\n",
              "      <th>0</th>\n",
              "      <td>7.4</td>\n",
              "      <td>0.70</td>\n",
              "      <td>0.00</td>\n",
              "      <td>1.9</td>\n",
              "      <td>0.076</td>\n",
              "      <td>11.0</td>\n",
              "      <td>34.0</td>\n",
              "      <td>0.9978</td>\n",
              "      <td>3.51</td>\n",
              "      <td>0.56</td>\n",
              "      <td>9.4</td>\n",
              "      <td>5</td>\n",
              "    </tr>\n",
              "    <tr>\n",
              "      <th>1</th>\n",
              "      <td>7.8</td>\n",
              "      <td>0.88</td>\n",
              "      <td>0.00</td>\n",
              "      <td>2.6</td>\n",
              "      <td>0.098</td>\n",
              "      <td>25.0</td>\n",
              "      <td>67.0</td>\n",
              "      <td>0.9968</td>\n",
              "      <td>3.20</td>\n",
              "      <td>0.68</td>\n",
              "      <td>9.8</td>\n",
              "      <td>5</td>\n",
              "    </tr>\n",
              "    <tr>\n",
              "      <th>2</th>\n",
              "      <td>7.8</td>\n",
              "      <td>0.76</td>\n",
              "      <td>0.04</td>\n",
              "      <td>2.3</td>\n",
              "      <td>0.092</td>\n",
              "      <td>15.0</td>\n",
              "      <td>54.0</td>\n",
              "      <td>0.9970</td>\n",
              "      <td>3.26</td>\n",
              "      <td>0.65</td>\n",
              "      <td>9.8</td>\n",
              "      <td>5</td>\n",
              "    </tr>\n",
              "    <tr>\n",
              "      <th>3</th>\n",
              "      <td>11.2</td>\n",
              "      <td>0.28</td>\n",
              "      <td>0.56</td>\n",
              "      <td>1.9</td>\n",
              "      <td>0.075</td>\n",
              "      <td>17.0</td>\n",
              "      <td>60.0</td>\n",
              "      <td>0.9980</td>\n",
              "      <td>3.16</td>\n",
              "      <td>0.58</td>\n",
              "      <td>9.8</td>\n",
              "      <td>6</td>\n",
              "    </tr>\n",
              "    <tr>\n",
              "      <th>4</th>\n",
              "      <td>7.4</td>\n",
              "      <td>0.70</td>\n",
              "      <td>0.00</td>\n",
              "      <td>1.9</td>\n",
              "      <td>0.076</td>\n",
              "      <td>11.0</td>\n",
              "      <td>34.0</td>\n",
              "      <td>0.9978</td>\n",
              "      <td>3.51</td>\n",
              "      <td>0.56</td>\n",
              "      <td>9.4</td>\n",
              "      <td>5</td>\n",
              "    </tr>\n",
              "  </tbody>\n",
              "</table>\n",
              "</div>"
            ],
            "text/plain": [
              "   fixed acidity  volatile acidity  citric acid  ...  sulphates  alcohol  quality\n",
              "0            7.4              0.70         0.00  ...       0.56      9.4        5\n",
              "1            7.8              0.88         0.00  ...       0.68      9.8        5\n",
              "2            7.8              0.76         0.04  ...       0.65      9.8        5\n",
              "3           11.2              0.28         0.56  ...       0.58      9.8        6\n",
              "4            7.4              0.70         0.00  ...       0.56      9.4        5\n",
              "\n",
              "[5 rows x 12 columns]"
            ]
          },
          "metadata": {
            "tags": []
          },
          "execution_count": 14
        }
      ]
    },
    {
      "cell_type": "code",
      "metadata": {
        "id": "-iXOzyjRLxp-",
        "colab_type": "code",
        "colab": {
          "base_uri": "https://localhost:8080/",
          "height": 34
        },
        "outputId": "286d7154-3663-4435-a0ba-7a355491754e"
      },
      "source": [
        "np.unique(df.quality)"
      ],
      "execution_count": 16,
      "outputs": [
        {
          "output_type": "execute_result",
          "data": {
            "text/plain": [
              "array([3, 4, 5, 6, 7, 8])"
            ]
          },
          "metadata": {
            "tags": []
          },
          "execution_count": 16
        }
      ]
    },
    {
      "cell_type": "markdown",
      "metadata": {
        "id": "TczZBPfxLpx2",
        "colab_type": "text"
      },
      "source": [
        "**Mapping all Qualities from 0 to 5**"
      ]
    },
    {
      "cell_type": "code",
      "metadata": {
        "id": "RtZOOmCtLBOU",
        "colab_type": "code",
        "colab": {}
      },
      "source": [
        "Quality_Mapping = {3:0,\n",
        "                   4:1,\n",
        "                   5:2,\n",
        "                   6:3,\n",
        "                   7:4,\n",
        "                   8:5}\n",
        "\n",
        "df.loc[:,\"quality\"] = df.quality.map(Quality_Mapping)"
      ],
      "execution_count": 21,
      "outputs": []
    },
    {
      "cell_type": "markdown",
      "metadata": {
        "id": "nMVO9NbiM2kH",
        "colab_type": "text"
      },
      "source": [
        "**Splitting data into train and test sets**\n",
        "\n",
        "* Use sample with(frac =1) to shuffle the dataframe.\n",
        "* resetting indices, so they change after Shuffling \n",
        "\n",
        "\n"
      ]
    },
    {
      "cell_type": "code",
      "metadata": {
        "id": "cJKpFTeRNNyW",
        "colab_type": "code",
        "colab": {}
      },
      "source": [
        "# To shuffle the data\n",
        "df = df.sample(frac=1).reset_index(drop=True)\n",
        "\n",
        "# Total length of dataframe is 1599 \n",
        "# Training Set - 1000\n",
        "df_train = df.head(1000)\n",
        "\n",
        "\n",
        "# Testing Set\n",
        "df_test = df.tail(599)"
      ],
      "execution_count": 23,
      "outputs": []
    },
    {
      "cell_type": "markdown",
      "metadata": {
        "id": "Z4qXqaC3N9MU",
        "colab_type": "text"
      },
      "source": [
        "# Training a DecisionTree Model"
      ]
    },
    {
      "cell_type": "code",
      "metadata": {
        "id": "DwMopFRaNt5s",
        "colab_type": "code",
        "colab": {}
      },
      "source": [
        "from sklearn import tree\n",
        "from sklearn import metrics\n",
        "\n",
        "# Initializing decision Tree with max_depth = 3\n",
        "clf = tree.DecisionTreeClassifier(max_depth=3)"
      ],
      "execution_count": 24,
      "outputs": []
    },
    {
      "cell_type": "markdown",
      "metadata": {
        "id": "Icm1r2HbOVaD",
        "colab_type": "text"
      },
      "source": [
        "**Choosing the colummn names that you want train ie., Features of the Model**"
      ]
    },
    {
      "cell_type": "code",
      "metadata": {
        "id": "vPu6-RriNu3l",
        "colab_type": "code",
        "colab": {}
      },
      "source": [
        "cols = [\"fixed acidity\",\t\"volatile acidity\",\t\"citric acid\",\t\"residual sugar\",\t\"chlorides\",\t\"free sulfur dioxide\",\t\"total sulfur dioxide\",\t\"density\",\t\"pH\",\t\"sulphates\",\t\"alcohol\"]"
      ],
      "execution_count": 25,
      "outputs": []
    },
    {
      "cell_type": "markdown",
      "metadata": {
        "id": "678cWjO0O6X7",
        "colab_type": "text"
      },
      "source": [
        "**Training**"
      ]
    },
    {
      "cell_type": "code",
      "metadata": {
        "id": "N_s0FY70O5a5",
        "colab_type": "code",
        "colab": {
          "base_uri": "https://localhost:8080/",
          "height": 119
        },
        "outputId": "b7cb1603-84e8-48df-8bca-56d8a13c1e90"
      },
      "source": [
        "clf.fit(df_train[cols],df_train.quality)"
      ],
      "execution_count": 26,
      "outputs": [
        {
          "output_type": "execute_result",
          "data": {
            "text/plain": [
              "DecisionTreeClassifier(ccp_alpha=0.0, class_weight=None, criterion='gini',\n",
              "                       max_depth=3, max_features=None, max_leaf_nodes=None,\n",
              "                       min_impurity_decrease=0.0, min_impurity_split=None,\n",
              "                       min_samples_leaf=1, min_samples_split=2,\n",
              "                       min_weight_fraction_leaf=0.0, presort='deprecated',\n",
              "                       random_state=None, splitter='best')"
            ]
          },
          "metadata": {
            "tags": []
          },
          "execution_count": 26
        }
      ]
    },
    {
      "cell_type": "markdown",
      "metadata": {
        "id": "6TvUcE7SPObr",
        "colab_type": "text"
      },
      "source": [
        "**Predicitons on Training Data**"
      ]
    },
    {
      "cell_type": "code",
      "metadata": {
        "id": "7Uv-xN1GPD6p",
        "colab_type": "code",
        "colab": {}
      },
      "source": [
        "train_pred = clf.predict(df_train[cols])"
      ],
      "execution_count": 27,
      "outputs": []
    },
    {
      "cell_type": "markdown",
      "metadata": {
        "id": "ZLnMcRZ_PYcx",
        "colab_type": "text"
      },
      "source": [
        "**Predictions on Test Data**"
      ]
    },
    {
      "cell_type": "code",
      "metadata": {
        "id": "n5dAVYjBPXeI",
        "colab_type": "code",
        "colab": {}
      },
      "source": [
        "test_pred = clf.predict(df_test[cols])"
      ],
      "execution_count": 28,
      "outputs": []
    },
    {
      "cell_type": "markdown",
      "metadata": {
        "id": "xVkyav-uPf-S",
        "colab_type": "text"
      },
      "source": [
        "**Calculating Accuracy**"
      ]
    },
    {
      "cell_type": "code",
      "metadata": {
        "id": "wi8WLHzDPfdX",
        "colab_type": "code",
        "colab": {
          "base_uri": "https://localhost:8080/",
          "height": 34
        },
        "outputId": "9d3a0e07-edd9-4b26-a513-61a863c270fa"
      },
      "source": [
        "train_acc = metrics.accuracy_score(df_train.quality,train_pred)\n",
        "\n",
        "test_acc = metrics.accuracy_score(df_test.quality, test_pred)\n",
        "\n",
        "print(f\"train acc- {train_acc}--- test acc- {test_acc}\")"
      ],
      "execution_count": 29,
      "outputs": [
        {
          "output_type": "stream",
          "text": [
            "train acc- 0.572--- test acc- 0.5759599332220368\n"
          ],
          "name": "stdout"
        }
      ]
    },
    {
      "cell_type": "markdown",
      "metadata": {
        "id": "VXoa_uZRQVYa",
        "colab_type": "text"
      },
      "source": [
        "**Now we'll look for max_depth = 7**\n"
      ]
    },
    {
      "cell_type": "code",
      "metadata": {
        "id": "uRxEnj9GQCLX",
        "colab_type": "code",
        "colab": {
          "base_uri": "https://localhost:8080/",
          "height": 34
        },
        "outputId": "a8d96d49-8b7d-42de-cb75-8512cbdacc80"
      },
      "source": [
        "clf7 = tree.DecisionTreeClassifier(max_depth=7)\n",
        "\n",
        "# Training\n",
        "clf.fit(df_train[cols],df_train.quality)\n",
        "\n",
        "# preditions on train & test data\n",
        "train_pred = clf.predict(df_train[cols])\n",
        "test_pred = clf.predict(df_test[cols])\n",
        "\n",
        "# accuracies for train and test\n",
        "train_acc = metrics.accuracy_score(df_train.quality,train_pred)\n",
        "test_acc = metrics.accuracy_score(df_test.quality,test_pred)\n",
        "\n",
        "\n",
        "train_acc,test_acc"
      ],
      "execution_count": 31,
      "outputs": [
        {
          "output_type": "execute_result",
          "data": {
            "text/plain": [
              "(0.572, 0.5759599332220368)"
            ]
          },
          "metadata": {
            "tags": []
          },
          "execution_count": 31
        }
      ]
    },
    {
      "cell_type": "markdown",
      "metadata": {
        "id": "q91ZaxKsRWYT",
        "colab_type": "text"
      },
      "source": [
        "# Now we'll calculate accuracies for different values of max-depth and make a plot"
      ]
    },
    {
      "cell_type": "code",
      "metadata": {
        "id": "diDEwQrGRLFp",
        "colab_type": "code",
        "colab": {
          "base_uri": "https://localhost:8080/",
          "height": 352
        },
        "outputId": "f700d2f4-4e92-44a5-cf89-8351129fed41"
      },
      "source": [
        "import matplotlib\n",
        "import matplotlib.pyplot as plt\n",
        "import seaborn as sns\n",
        "\n",
        "from sklearn import tree\n",
        "from sklearn import metrics\n",
        "\n",
        "matplotlib.rc('xtick',labelsize=20)\n",
        "matplotlib.rc('ytick',labelsize=20)\n",
        "\n",
        "# Initializin train and test acc to 50%  and we'll start plotting from 50%\n",
        "train_acc = [0.5]\n",
        "test_acc = [0.5]\n",
        "\n",
        "# Iterating over few max_depth values\n",
        "for depth in range(1,25):\n",
        "  clf = tree.DecisionTreeClassifier(max_depth = depth)\n",
        "  cols = [\"fixed acidity\",\n",
        "          \"volatile acidity\",\n",
        "          \"citric acid\",\n",
        "          \"residual sugar\",\n",
        "          \"chlorides\",\n",
        "          \"free sulfur dioxide\",\n",
        "          \"total sulfur dioxide\",\n",
        "          \"density\",\n",
        "          \"pH\",\n",
        "          \"sulphates\",\n",
        "          \"alcohol\"] \n",
        "\n",
        "  # fitting the Model\n",
        "  clf.fit(df_train[cols],df_train.quality)\n",
        "\n",
        "  # making Predictions\n",
        "  train_pred = clf.predict(df_train[cols])\n",
        "  test_pred = clf.predict(df_test[cols])\n",
        "\n",
        "  # Calculate accuracies\n",
        "  train_accuracy = metrics.accuracy_score(df_train.quality,train_pred)\n",
        "  test_accuracy = metrics.accuracy_score(df_test.quality,test_pred)\n",
        "\n",
        "  # appending accuracies\n",
        "  train_acc.append(train_accuracy)\n",
        "  test_acc.append(test_accuracy)\n",
        "\n",
        "\n",
        "# Creating a plot\n",
        "plt.figure(figsize=(10,5))\n",
        "sns.set_style('whitegrid')\n",
        "plt.plot(train_acc,label = 'train accuracy')\n",
        "plt.plot(test_acc,label = 'test accuracy')\n",
        "plt.legend(loc='upper left',prop={'size':15})\n",
        "plt.xticks(range(0,26,5))\n",
        "plt.xlabel('max depth',size = 20)\n",
        "plt.ylabel('accuracy',size = 20)\n",
        "plt.show()"
      ],
      "execution_count": 35,
      "outputs": [
        {
          "output_type": "display_data",
          "data": {
            "image/png": "[encoded data removed]",
            "text/plain": [
              "<Figure size 720x360 with 1 Axes>"
            ]
          },
          "metadata": {
            "tags": [],
            "needs_background": "light"
          }
        }
      ]
    },
    {
      "cell_type": "markdown",
      "metadata": {
        "id": "_9qmitG2UBXC",
        "colab_type": "text"
      },
      "source": [
        "* we can see that best test accuracys is obtained when max_depth is 5\n",
        "\n",
        "* As we keep on incresing the depth the model keeps learing about the training data ad performs very poor on test data. This is called **Overfitting**\n",
        "* This means the model doesn't generalize on unseen samples\n",
        "\n",
        "* **Another Definition of Overfitting:** would be when the test loss increases as we keep improving the training loss\n"
      ]
    },
    {
      "cell_type": "markdown",
      "metadata": {
        "id": "lDgvBbouRXb6",
        "colab_type": "text"
      },
      "source": [
        "# Occum' razor principle\"\n",
        "    \"Simplest Solutions are Most Generalizable Solutions\""
      ]
    },
    {
      "cell_type": "markdown",
      "metadata": {
        "id": "SOgKNxtxRt7f",
        "colab_type": "text"
      },
      "source": [
        "# Choosing the Cross-Validation Techniques:\n",
        "    Cross validation is divinding data into two parts. And the type of cross-validation depends on the dataset being used\n",
        "\n",
        "* K-Fold Cross-Validation\n",
        "* Stratified K-Fold Cross-Validation\n",
        "* Hold-Out based Cross-Validation\n",
        "* Leave-one-out Cross-Validation\n",
        "* Group K-Fold Cross-Validation\n"
      ]
    },
    {
      "cell_type": "markdown",
      "metadata": {
        "id": "0TEp07V6SYQN",
        "colab_type": "text"
      },
      "source": [
        "# 1. K-Fold Cross Validation:\n",
        "  Divide the data into k different subsets which are exclusive of each other\n",
        "\n",
        "\n",
        "  **Code:**"
      ]
    },
    {
      "cell_type": "code",
      "metadata": {
        "id": "M2GelsScTtpn",
        "colab_type": "code",
        "colab": {}
      },
      "source": [
        "import pandas as pd\n",
        "from sklearn import model_selection\n",
        "\n",
        "# Each sample is assigned with a values from 0 - (k-1) \n",
        "\n",
        "if __name__==\"__main__\":\n",
        "  df = pd.read_csv('/content/winequality-red.csv')\n",
        "\n",
        "  # we create a new col called 'kfold' and fill it with -1\n",
        "  df['kfold']= -1\n",
        "\n",
        "  # next step is to randomize the rows of the data\n",
        "  df= df.sample(frac=1).reset_index(drop = True)\n",
        "\n",
        "  # Initiate the KFold class from the model_selection module\n",
        "  kf = model_selection.KFold(n_splits =5)\n",
        "\n",
        "  # fill the new kfold column\n",
        "  for fold,(train_,val_) in enumerate(kf.split(X=df)):\n",
        "    df.loc[val_,'kfold'] = fold\n",
        "\n",
        "  # Save the new csv with kfold column\n",
        "  df.to_csv(\"train_folds.csv\",index = False)"
      ],
      "execution_count": 3,
      "outputs": []
    },
    {
      "cell_type": "markdown",
      "metadata": {
        "id": "TsQ3q-MSUkwr",
        "colab_type": "text"
      },
      "source": [
        "# 2. Stratified KFold Cross validation:\n",
        "* if you have a skewed dataset for binary classification with 90% positive samples and 10% negative samples\n",
        "* Stratified kfold keeps the ratio of labels in each fold constant\n",
        "    So, in each fold you'll have same 90% positive and 10% negative samples.\n",
        "* Just replace 'KFold' with 'StratifiedKFold' and in 'kf.split()' will specify target column in which we want to stratify\n",
        "\n",
        "\n",
        "Let's look at the distribution of labels in the wine dataset"
      ]
    },
    {
      "cell_type": "code",
      "metadata": {
        "id": "KpBXNRPcV-xJ",
        "colab_type": "code",
        "colab": {
          "base_uri": "https://localhost:8080/",
          "height": 359
        },
        "outputId": "347b44d5-b52b-4eb3-aaf6-52ac1a7f78e1"
      },
      "source": [
        "import seaborn as sns\n",
        "\n",
        "b = sns.countplot(x='quality',data=df)\n",
        "b.set_xlabel(\"quality\",fontsize=20)\n",
        "b.set_ylabel(\"count\",fontsize=20)"
      ],
      "execution_count": 9,
      "outputs": [
        {
          "output_type": "stream",
          "text": [
            "/usr/local/lib/python3.6/dist-packages/statsmodels/tools/_testing.py:19: FutureWarning: pandas.util.testing is deprecated. Use the functions in the public API at pandas.testing instead.\n",
            "  import pandas.util.testing as tm\n"
          ],
          "name": "stderr"
        },
        {
          "output_type": "execute_result",
          "data": {
            "text/plain": [
              "Text(0, 0.5, 'count')"
            ]
          },
          "metadata": {
            "tags": []
          },
          "execution_count": 9
        },
        {
          "output_type": "display_data",
          "data": {
            "image/png": "[encoded data removed]",
            "text/plain": [
              "<Figure size 432x288 with 1 Axes>"
            ]
          },
          "metadata": {
            "tags": [],
            "needs_background": "light"
          }
        }
      ]
    },
    {
      "cell_type": "markdown",
      "metadata": {
        "id": "cwMSrVdiWeta",
        "colab_type": "text"
      },
      "source": [
        "* we can see that the data is much skewed. So we apply Stratified KFOld"
      ]
    },
    {
      "cell_type": "code",
      "metadata": {
        "id": "gWrVgKzxUWiJ",
        "colab_type": "code",
        "colab": {}
      },
      "source": [
        "import pandas as pd\n",
        "from sklearn import model_selection\n",
        "\n",
        "# Each sample is assigned with a values from 0 - (k-1) \n",
        "\n",
        "if __name__==\"__main__\":\n",
        "  df = pd.read_csv('/content/winequality-red.csv')\n",
        "\n",
        "  # we create a new col called 'kfold' and fill it with -1\n",
        "  df['kfold']= -1\n",
        "\n",
        "  # next step is to randomize the rows of the data\n",
        "  df= df.sample(frac=1).reset_index(drop = True)\n",
        "\n",
        "  # Fetch target values\n",
        "  y = df.quality.values\n",
        "\n",
        "  # Initiate the KFold class from the model_selection module\n",
        "  kf = model_selection.StratifiedKFold(n_splits =5)\n",
        "\n",
        "  # fill the new kfold column\n",
        "  for fold,(train_,val_) in enumerate(kf.split(X=df,y=y)):\n",
        "    df.loc[val_,'kfold'] = fold\n",
        "\n",
        "  # Save the new csv with kfold column\n",
        "  df.to_csv(\"train_stratified_folds.csv\",index = False)"
      ],
      "execution_count": 7,
      "outputs": []
    },
    {
      "cell_type": "markdown",
      "metadata": {
        "id": "bGMVCeR3Vt-n",
        "colab_type": "text"
      },
      "source": [
        "# 3. Hold-Out based validation:\n",
        "* with time seried data\n",
        "\n",
        "**Eg.,** To predict sales for 2020 and data is from 2015-2019.\n",
        "\n",
        "  ```In this data, year 2019 is taken as holdout and from 2015-2018 are taken for training.\n",
        "    While prediciting for 2020, we will include 2019 in the model, otherwise performance will be Subpar```"
      ]
    },
    {
      "cell_type": "markdown",
      "metadata": {
        "id": "L8qzPQ5eXFnL",
        "colab_type": "text"
      },
      "source": [
        "**Note:**\n",
        "* **While dealing with small datasets;** \n",
        "\n",
        "  * Creating Big validation sets means losing a lot of data.\n",
        "  * In these cases opt, KFold cross validation where k=N, n= No. of samples in the dataset.\n",
        "  * Model wont be fast enough"
      ]
    },
    {
      "cell_type": "markdown",
      "metadata": {
        "id": "aVx24-ASYDg7",
        "colab_type": "text"
      },
      "source": [
        "# Now for regression:\n",
        "* Mostly, simple KFold cross-validation works for regression problems.\n",
        "* we can use all cross validation techniques discussed above for regression top, except Stratified KFold directly. However **if you see that the distribution of targets is not consistent, you can use Stratified KFold.**\n",
        "* But there are ways to use Stratified KFold\n",
        "\n",
        "**Using Stratified KFold for Regression**:\n",
        "* first divide the target values into bins.\n",
        "* Use **Sturge's Rule** to calcualte the appropriate number of bins.\n",
        "\n",
        "    ```No. of bins = 1 + log2(N)```\n",
        "\n",
        "    where, N is the no. of samples in the dataset\n",
        "\n",
        "**Code:**\n",
        "\n",
        "let's make a sample regression dataset and will apply Stratified KFold"
      ]
    },
    {
      "cell_type": "code",
      "metadata": {
        "id": "61A-1qQdZVlc",
        "colab_type": "code",
        "colab": {}
      },
      "source": [
        "import numpy as np\n",
        "import pandas as pd\n",
        "\n",
        "from sklearn import datasets\n",
        "from sklearn import model_selection\n",
        "\n",
        "\n",
        "def create_folds(data):\n",
        "  # create a new col called kfold and fill it with -1\n",
        "  data['kfold'] = -1\n",
        "\n",
        "  # the next step is to randomize the rows\n",
        "  data = data.sample(frac=1).reset_index(drop=True)\n",
        "\n",
        "  # calculate the number of folds using the sturge's rule\n",
        "  # taking floor(), or round() both can be used\n",
        "  num_bins = int(np.floor(1+np.log2(len(data))))\n",
        "\n",
        "  # Bin targets\n",
        "  data.loc[:,'bins'] = pd.cut(data['target'],bins = num_bins,labels=False)\n",
        "\n",
        "  # initiate the StratifiedKFold\n",
        "  kf = model_selection.StratifiedKFold(n_splits=5)\n",
        "\n",
        "  # Fill the new kfold col\n",
        "  # note: instead of targets we use bins\n",
        "  for f_,(t_,v_) in enumerate(kf.split(X=data,y=data.bins.values)):\n",
        "    data.loc[v_,'kfold'] = f_\n",
        "  \n",
        "  # drop the bins col\n",
        "  data = data.drop('bins',axis =1)\n",
        "\n",
        "  # return the dataframe with kfolds\n",
        "  return data\n",
        "\n",
        "\n",
        "if __name__==\"__main__\":\n",
        "  X,y = datasets.make_regression(n_samples=15000,n_features =100, n_targets=1)\n",
        "\n",
        "  # create a dataframe out of numpy arrays.\n",
        "  df = pd.DataFrame(X, columns= [f\"f_{i}\" for i in range(X.shape[1])])\n",
        "  df.loc[:,'target'] = y\n",
        "\n",
        "  # Create Folds\n",
        "  df = create_folds(df)"
      ],
      "execution_count": 13,
      "outputs": []
    },
    {
      "cell_type": "code",
      "metadata": {
        "id": "Xo4Bn_X2ZVhd",
        "colab_type": "code",
        "colab": {
          "base_uri": "https://localhost:8080/",
          "height": 253
        },
        "outputId": "1396401f-3b2f-4582-ad70-3a17a3f60884"
      },
      "source": [
        "df.head()"
      ],
      "execution_count": 14,
      "outputs": [
        {
          "output_type": "execute_result",
          "data": {
            "text/html": [
              "<div>\n",
              "<style scoped>\n",
              "    .dataframe tbody tr th:only-of-type {\n",
              "        vertical-align: middle;\n",
              "    }\n",
              "\n",
              "    .dataframe tbody tr th {\n",
              "        vertical-align: top;\n",
              "    }\n",
              "\n",
              "    .dataframe thead th {\n",
              "        text-align: right;\n",
              "    }\n",
              "</style>\n",
              "<table border=\"1\" class=\"dataframe\">\n",
              "  <thead>\n",
              "    <tr style=\"text-align: right;\">\n",
              "      <th></th>\n",
              "      <th>f_0</th>\n",
              "      <th>f_1</th>\n",
              "      <th>f_2</th>\n",
              "      <th>f_3</th>\n",
              "      <th>f_4</th>\n",
              "      <th>f_5</th>\n",
              "      <th>f_6</th>\n",
              "      <th>f_7</th>\n",
              "      <th>f_8</th>\n",
              "      <th>f_9</th>\n",
              "      <th>f_10</th>\n",
              "      <th>f_11</th>\n",
              "      <th>f_12</th>\n",
              "      <th>f_13</th>\n",
              "      <th>f_14</th>\n",
              "      <th>f_15</th>\n",
              "      <th>f_16</th>\n",
              "      <th>f_17</th>\n",
              "      <th>f_18</th>\n",
              "      <th>f_19</th>\n",
              "      <th>f_20</th>\n",
              "      <th>f_21</th>\n",
              "      <th>f_22</th>\n",
              "      <th>f_23</th>\n",
              "      <th>f_24</th>\n",
              "      <th>f_25</th>\n",
              "      <th>f_26</th>\n",
              "      <th>f_27</th>\n",
              "      <th>f_28</th>\n",
              "      <th>f_29</th>\n",
              "      <th>f_30</th>\n",
              "      <th>f_31</th>\n",
              "      <th>f_32</th>\n",
              "      <th>f_33</th>\n",
              "      <th>f_34</th>\n",
              "      <th>f_35</th>\n",
              "      <th>f_36</th>\n",
              "      <th>f_37</th>\n",
              "      <th>f_38</th>\n",
              "      <th>f_39</th>\n",
              "      <th>...</th>\n",
              "      <th>f_62</th>\n",
              "      <th>f_63</th>\n",
              "      <th>f_64</th>\n",
              "      <th>f_65</th>\n",
              "      <th>f_66</th>\n",
              "      <th>f_67</th>\n",
              "      <th>f_68</th>\n",
              "      <th>f_69</th>\n",
              "      <th>f_70</th>\n",
              "      <th>f_71</th>\n",
              "      <th>f_72</th>\n",
              "      <th>f_73</th>\n",
              "      <th>f_74</th>\n",
              "      <th>f_75</th>\n",
              "      <th>f_76</th>\n",
              "      <th>f_77</th>\n",
              "      <th>f_78</th>\n",
              "      <th>f_79</th>\n",
              "      <th>f_80</th>\n",
              "      <th>f_81</th>\n",
              "      <th>f_82</th>\n",
              "      <th>f_83</th>\n",
              "      <th>f_84</th>\n",
              "      <th>f_85</th>\n",
              "      <th>f_86</th>\n",
              "      <th>f_87</th>\n",
              "      <th>f_88</th>\n",
              "      <th>f_89</th>\n",
              "      <th>f_90</th>\n",
              "      <th>f_91</th>\n",
              "      <th>f_92</th>\n",
              "      <th>f_93</th>\n",
              "      <th>f_94</th>\n",
              "      <th>f_95</th>\n",
              "      <th>f_96</th>\n",
              "      <th>f_97</th>\n",
              "      <th>f_98</th>\n",
              "      <th>f_99</th>\n",
              "      <th>target</th>\n",
              "      <th>kfold</th>\n",
              "    </tr>\n",
              "  </thead>\n",
              "  <tbody>\n",
              "    <tr>\n",
              "      <th>0</th>\n",
              "      <td>-0.407771</td>\n",
              "      <td>1.853832</td>\n",
              "      <td>0.817174</td>\n",
              "      <td>0.705439</td>\n",
              "      <td>-0.938482</td>\n",
              "      <td>0.787200</td>\n",
              "      <td>-0.535124</td>\n",
              "      <td>-0.282134</td>\n",
              "      <td>-1.688213</td>\n",
              "      <td>-0.705671</td>\n",
              "      <td>0.792797</td>\n",
              "      <td>-0.535890</td>\n",
              "      <td>-0.613685</td>\n",
              "      <td>0.126839</td>\n",
              "      <td>-0.943452</td>\n",
              "      <td>-1.534144</td>\n",
              "      <td>-1.348696</td>\n",
              "      <td>-0.658148</td>\n",
              "      <td>-0.279196</td>\n",
              "      <td>-1.342630</td>\n",
              "      <td>1.134930</td>\n",
              "      <td>-0.521173</td>\n",
              "      <td>1.617583</td>\n",
              "      <td>0.467771</td>\n",
              "      <td>-0.316797</td>\n",
              "      <td>0.557217</td>\n",
              "      <td>-0.931891</td>\n",
              "      <td>0.888148</td>\n",
              "      <td>0.446761</td>\n",
              "      <td>-0.320580</td>\n",
              "      <td>-1.173838</td>\n",
              "      <td>0.950617</td>\n",
              "      <td>-0.057040</td>\n",
              "      <td>-0.034340</td>\n",
              "      <td>1.584404</td>\n",
              "      <td>-0.342377</td>\n",
              "      <td>0.986705</td>\n",
              "      <td>-0.277723</td>\n",
              "      <td>-0.317005</td>\n",
              "      <td>-0.149624</td>\n",
              "      <td>...</td>\n",
              "      <td>0.540445</td>\n",
              "      <td>-1.635386</td>\n",
              "      <td>-0.716568</td>\n",
              "      <td>-0.613483</td>\n",
              "      <td>-0.164374</td>\n",
              "      <td>-0.673414</td>\n",
              "      <td>0.754285</td>\n",
              "      <td>-0.632647</td>\n",
              "      <td>-0.626481</td>\n",
              "      <td>-1.344580</td>\n",
              "      <td>0.635437</td>\n",
              "      <td>-0.331161</td>\n",
              "      <td>0.530890</td>\n",
              "      <td>-1.095504</td>\n",
              "      <td>1.879689</td>\n",
              "      <td>-0.135472</td>\n",
              "      <td>-2.104586</td>\n",
              "      <td>0.229777</td>\n",
              "      <td>1.828486</td>\n",
              "      <td>-0.128177</td>\n",
              "      <td>-0.713276</td>\n",
              "      <td>0.932449</td>\n",
              "      <td>-1.468037</td>\n",
              "      <td>-0.428374</td>\n",
              "      <td>-1.395362</td>\n",
              "      <td>0.141669</td>\n",
              "      <td>-0.775534</td>\n",
              "      <td>-0.510253</td>\n",
              "      <td>-0.397097</td>\n",
              "      <td>0.302548</td>\n",
              "      <td>-1.311036</td>\n",
              "      <td>1.451206</td>\n",
              "      <td>-0.462867</td>\n",
              "      <td>0.480959</td>\n",
              "      <td>0.427132</td>\n",
              "      <td>0.834041</td>\n",
              "      <td>0.119261</td>\n",
              "      <td>-0.831185</td>\n",
              "      <td>-97.090487</td>\n",
              "      <td>0</td>\n",
              "    </tr>\n",
              "    <tr>\n",
              "      <th>1</th>\n",
              "      <td>-1.045110</td>\n",
              "      <td>-0.780816</td>\n",
              "      <td>-1.896184</td>\n",
              "      <td>-0.263116</td>\n",
              "      <td>0.866498</td>\n",
              "      <td>1.481374</td>\n",
              "      <td>0.367045</td>\n",
              "      <td>-1.059599</td>\n",
              "      <td>-0.287083</td>\n",
              "      <td>0.406472</td>\n",
              "      <td>-0.805361</td>\n",
              "      <td>-1.371714</td>\n",
              "      <td>0.147444</td>\n",
              "      <td>0.176735</td>\n",
              "      <td>0.312556</td>\n",
              "      <td>0.075135</td>\n",
              "      <td>-0.265236</td>\n",
              "      <td>-0.518886</td>\n",
              "      <td>-0.174317</td>\n",
              "      <td>0.810340</td>\n",
              "      <td>-0.128449</td>\n",
              "      <td>1.191514</td>\n",
              "      <td>0.511302</td>\n",
              "      <td>0.280719</td>\n",
              "      <td>-1.049390</td>\n",
              "      <td>-3.307012</td>\n",
              "      <td>-0.314718</td>\n",
              "      <td>-0.513915</td>\n",
              "      <td>2.010118</td>\n",
              "      <td>-0.091076</td>\n",
              "      <td>-0.667846</td>\n",
              "      <td>0.173495</td>\n",
              "      <td>0.212770</td>\n",
              "      <td>0.572535</td>\n",
              "      <td>-0.559612</td>\n",
              "      <td>-0.549865</td>\n",
              "      <td>1.052941</td>\n",
              "      <td>0.990965</td>\n",
              "      <td>0.320720</td>\n",
              "      <td>-1.004092</td>\n",
              "      <td>...</td>\n",
              "      <td>-1.485948</td>\n",
              "      <td>0.149618</td>\n",
              "      <td>-0.122302</td>\n",
              "      <td>1.133957</td>\n",
              "      <td>0.492565</td>\n",
              "      <td>-0.546128</td>\n",
              "      <td>-1.154311</td>\n",
              "      <td>1.061502</td>\n",
              "      <td>-0.707945</td>\n",
              "      <td>-1.218458</td>\n",
              "      <td>0.629682</td>\n",
              "      <td>0.256734</td>\n",
              "      <td>-0.643712</td>\n",
              "      <td>1.137585</td>\n",
              "      <td>0.300593</td>\n",
              "      <td>-1.173228</td>\n",
              "      <td>1.863667</td>\n",
              "      <td>0.579937</td>\n",
              "      <td>0.251732</td>\n",
              "      <td>0.349206</td>\n",
              "      <td>-0.036390</td>\n",
              "      <td>-0.543824</td>\n",
              "      <td>0.799198</td>\n",
              "      <td>-0.471508</td>\n",
              "      <td>0.419021</td>\n",
              "      <td>-0.071828</td>\n",
              "      <td>-0.619944</td>\n",
              "      <td>-1.731687</td>\n",
              "      <td>-0.582760</td>\n",
              "      <td>-0.617000</td>\n",
              "      <td>-0.706096</td>\n",
              "      <td>-0.758654</td>\n",
              "      <td>1.532778</td>\n",
              "      <td>0.498678</td>\n",
              "      <td>-0.401066</td>\n",
              "      <td>0.032106</td>\n",
              "      <td>-0.271578</td>\n",
              "      <td>-0.102948</td>\n",
              "      <td>191.125209</td>\n",
              "      <td>0</td>\n",
              "    </tr>\n",
              "    <tr>\n",
              "      <th>2</th>\n",
              "      <td>1.281661</td>\n",
              "      <td>1.023085</td>\n",
              "      <td>-2.420375</td>\n",
              "      <td>-1.448678</td>\n",
              "      <td>-2.279434</td>\n",
              "      <td>0.504218</td>\n",
              "      <td>-0.678153</td>\n",
              "      <td>0.729077</td>\n",
              "      <td>1.142061</td>\n",
              "      <td>1.060473</td>\n",
              "      <td>-1.466988</td>\n",
              "      <td>-0.831386</td>\n",
              "      <td>-0.251393</td>\n",
              "      <td>-0.593047</td>\n",
              "      <td>0.217881</td>\n",
              "      <td>0.142215</td>\n",
              "      <td>-0.227509</td>\n",
              "      <td>-0.396890</td>\n",
              "      <td>-0.772086</td>\n",
              "      <td>0.778186</td>\n",
              "      <td>0.172473</td>\n",
              "      <td>0.254339</td>\n",
              "      <td>-0.042094</td>\n",
              "      <td>0.060022</td>\n",
              "      <td>-1.078862</td>\n",
              "      <td>-1.445184</td>\n",
              "      <td>-0.228496</td>\n",
              "      <td>-2.375428</td>\n",
              "      <td>-1.326182</td>\n",
              "      <td>0.216357</td>\n",
              "      <td>2.032233</td>\n",
              "      <td>-0.029432</td>\n",
              "      <td>1.783613</td>\n",
              "      <td>-0.751216</td>\n",
              "      <td>0.863587</td>\n",
              "      <td>-1.081383</td>\n",
              "      <td>0.917701</td>\n",
              "      <td>0.709331</td>\n",
              "      <td>0.459476</td>\n",
              "      <td>-1.810883</td>\n",
              "      <td>...</td>\n",
              "      <td>0.459059</td>\n",
              "      <td>0.833337</td>\n",
              "      <td>-1.119382</td>\n",
              "      <td>-0.275942</td>\n",
              "      <td>0.824842</td>\n",
              "      <td>0.284279</td>\n",
              "      <td>-0.006320</td>\n",
              "      <td>-0.629515</td>\n",
              "      <td>0.067394</td>\n",
              "      <td>0.628782</td>\n",
              "      <td>1.823294</td>\n",
              "      <td>-0.073714</td>\n",
              "      <td>1.896306</td>\n",
              "      <td>0.510681</td>\n",
              "      <td>0.588618</td>\n",
              "      <td>-0.387842</td>\n",
              "      <td>0.435176</td>\n",
              "      <td>-0.794076</td>\n",
              "      <td>-0.959938</td>\n",
              "      <td>-0.181808</td>\n",
              "      <td>0.612892</td>\n",
              "      <td>-0.304188</td>\n",
              "      <td>0.320417</td>\n",
              "      <td>0.315881</td>\n",
              "      <td>1.340657</td>\n",
              "      <td>-1.651540</td>\n",
              "      <td>0.862161</td>\n",
              "      <td>-0.586125</td>\n",
              "      <td>-0.316842</td>\n",
              "      <td>-0.306912</td>\n",
              "      <td>-0.288389</td>\n",
              "      <td>-0.126187</td>\n",
              "      <td>0.219549</td>\n",
              "      <td>-0.412205</td>\n",
              "      <td>-1.275966</td>\n",
              "      <td>0.773717</td>\n",
              "      <td>-0.190397</td>\n",
              "      <td>0.200078</td>\n",
              "      <td>-197.102906</td>\n",
              "      <td>0</td>\n",
              "    </tr>\n",
              "    <tr>\n",
              "      <th>3</th>\n",
              "      <td>0.492987</td>\n",
              "      <td>-1.272934</td>\n",
              "      <td>-0.494603</td>\n",
              "      <td>1.522784</td>\n",
              "      <td>1.229884</td>\n",
              "      <td>-0.420252</td>\n",
              "      <td>0.300699</td>\n",
              "      <td>-0.344888</td>\n",
              "      <td>-2.058742</td>\n",
              "      <td>0.186980</td>\n",
              "      <td>-1.037953</td>\n",
              "      <td>0.242480</td>\n",
              "      <td>0.634858</td>\n",
              "      <td>-2.476810</td>\n",
              "      <td>0.233632</td>\n",
              "      <td>0.319172</td>\n",
              "      <td>-1.812932</td>\n",
              "      <td>0.928848</td>\n",
              "      <td>0.417452</td>\n",
              "      <td>-0.333412</td>\n",
              "      <td>-1.428357</td>\n",
              "      <td>0.898368</td>\n",
              "      <td>0.826166</td>\n",
              "      <td>-1.779240</td>\n",
              "      <td>-0.468488</td>\n",
              "      <td>0.169796</td>\n",
              "      <td>-0.534090</td>\n",
              "      <td>0.006592</td>\n",
              "      <td>-0.784149</td>\n",
              "      <td>0.949077</td>\n",
              "      <td>-0.077654</td>\n",
              "      <td>1.082932</td>\n",
              "      <td>-0.181911</td>\n",
              "      <td>-0.083427</td>\n",
              "      <td>0.269021</td>\n",
              "      <td>0.212453</td>\n",
              "      <td>1.145233</td>\n",
              "      <td>-0.448457</td>\n",
              "      <td>-1.025249</td>\n",
              "      <td>-0.482618</td>\n",
              "      <td>...</td>\n",
              "      <td>0.319486</td>\n",
              "      <td>-0.015341</td>\n",
              "      <td>-1.241113</td>\n",
              "      <td>-0.136982</td>\n",
              "      <td>0.158671</td>\n",
              "      <td>-0.554631</td>\n",
              "      <td>1.391044</td>\n",
              "      <td>1.358722</td>\n",
              "      <td>-0.363400</td>\n",
              "      <td>-1.839061</td>\n",
              "      <td>-1.891041</td>\n",
              "      <td>0.189150</td>\n",
              "      <td>0.289063</td>\n",
              "      <td>0.557429</td>\n",
              "      <td>0.523830</td>\n",
              "      <td>-1.196978</td>\n",
              "      <td>1.436099</td>\n",
              "      <td>1.081657</td>\n",
              "      <td>0.568656</td>\n",
              "      <td>1.323300</td>\n",
              "      <td>-2.051281</td>\n",
              "      <td>0.863073</td>\n",
              "      <td>0.102275</td>\n",
              "      <td>-0.285448</td>\n",
              "      <td>-0.065170</td>\n",
              "      <td>0.081990</td>\n",
              "      <td>0.515510</td>\n",
              "      <td>-0.678459</td>\n",
              "      <td>-0.288121</td>\n",
              "      <td>0.826297</td>\n",
              "      <td>0.997922</td>\n",
              "      <td>1.824580</td>\n",
              "      <td>0.381194</td>\n",
              "      <td>-1.360678</td>\n",
              "      <td>0.006422</td>\n",
              "      <td>0.839903</td>\n",
              "      <td>0.856833</td>\n",
              "      <td>1.381235</td>\n",
              "      <td>-167.831568</td>\n",
              "      <td>0</td>\n",
              "    </tr>\n",
              "    <tr>\n",
              "      <th>4</th>\n",
              "      <td>-0.116938</td>\n",
              "      <td>-0.200806</td>\n",
              "      <td>-1.099751</td>\n",
              "      <td>1.962631</td>\n",
              "      <td>-0.204113</td>\n",
              "      <td>0.485187</td>\n",
              "      <td>0.871736</td>\n",
              "      <td>-0.264016</td>\n",
              "      <td>0.216324</td>\n",
              "      <td>1.401520</td>\n",
              "      <td>0.005096</td>\n",
              "      <td>-0.198429</td>\n",
              "      <td>0.585140</td>\n",
              "      <td>-1.304734</td>\n",
              "      <td>-0.216395</td>\n",
              "      <td>0.755767</td>\n",
              "      <td>0.961742</td>\n",
              "      <td>0.263035</td>\n",
              "      <td>-0.034990</td>\n",
              "      <td>-0.473552</td>\n",
              "      <td>0.503367</td>\n",
              "      <td>-1.734464</td>\n",
              "      <td>-0.635707</td>\n",
              "      <td>-0.307506</td>\n",
              "      <td>0.961598</td>\n",
              "      <td>0.510754</td>\n",
              "      <td>1.156157</td>\n",
              "      <td>-0.024514</td>\n",
              "      <td>1.145061</td>\n",
              "      <td>1.184364</td>\n",
              "      <td>0.054793</td>\n",
              "      <td>0.341878</td>\n",
              "      <td>-1.731594</td>\n",
              "      <td>-1.908478</td>\n",
              "      <td>-0.592228</td>\n",
              "      <td>0.281202</td>\n",
              "      <td>-0.173897</td>\n",
              "      <td>0.852218</td>\n",
              "      <td>1.624730</td>\n",
              "      <td>0.414269</td>\n",
              "      <td>...</td>\n",
              "      <td>-0.035821</td>\n",
              "      <td>-1.417388</td>\n",
              "      <td>-0.793508</td>\n",
              "      <td>-0.544610</td>\n",
              "      <td>-1.101611</td>\n",
              "      <td>-0.000241</td>\n",
              "      <td>-0.929259</td>\n",
              "      <td>-1.081029</td>\n",
              "      <td>3.069314</td>\n",
              "      <td>1.192077</td>\n",
              "      <td>0.821191</td>\n",
              "      <td>1.285369</td>\n",
              "      <td>1.258033</td>\n",
              "      <td>-0.916417</td>\n",
              "      <td>0.571291</td>\n",
              "      <td>-0.240127</td>\n",
              "      <td>0.552933</td>\n",
              "      <td>1.056505</td>\n",
              "      <td>1.504646</td>\n",
              "      <td>-0.328244</td>\n",
              "      <td>1.705042</td>\n",
              "      <td>0.095225</td>\n",
              "      <td>-0.762364</td>\n",
              "      <td>-0.555579</td>\n",
              "      <td>0.459846</td>\n",
              "      <td>-0.638398</td>\n",
              "      <td>-0.208108</td>\n",
              "      <td>-0.441664</td>\n",
              "      <td>0.403883</td>\n",
              "      <td>0.325539</td>\n",
              "      <td>0.272762</td>\n",
              "      <td>-1.186108</td>\n",
              "      <td>1.535370</td>\n",
              "      <td>-1.456712</td>\n",
              "      <td>0.759064</td>\n",
              "      <td>1.510700</td>\n",
              "      <td>-0.772049</td>\n",
              "      <td>-1.764886</td>\n",
              "      <td>22.596188</td>\n",
              "      <td>0</td>\n",
              "    </tr>\n",
              "  </tbody>\n",
              "</table>\n",
              "<p>5 rows × 102 columns</p>\n",
              "</div>"
            ],
            "text/plain": [
              "        f_0       f_1       f_2  ...      f_99      target  kfold\n",
              "0 -0.407771  1.853832  0.817174  ... -0.831185  -97.090487      0\n",
              "1 -1.045110 -0.780816 -1.896184  ... -0.102948  191.125209      0\n",
              "2  1.281661  1.023085 -2.420375  ...  0.200078 -197.102906      0\n",
              "3  0.492987 -1.272934 -0.494603  ...  1.381235 -167.831568      0\n",
              "4 -0.116938 -0.200806 -1.099751  ... -1.764886   22.596188      0\n",
              "\n",
              "[5 rows x 102 columns]"
            ]
          },
          "metadata": {
            "tags": []
          },
          "execution_count": 14
        }
      ]
    },
    {
      "cell_type": "markdown",
      "metadata": {
        "id": "epWOulWQcPUz",
        "colab_type": "text"
      },
      "source": [
        "**If you have a good cross-validation scheme in which validation data is representative of training and real_world data, you'll be able to build a good machine learning model**"
      ]
    },
    {
      "cell_type": "markdown",
      "metadata": {
        "id": "TJiH9Q4YdAAW",
        "colab_type": "text"
      },
      "source": [
        "# Visualising the Cross-Validation Techniques:"
      ]
    },
    {
      "cell_type": "code",
      "metadata": {
        "id": "nBrsn1hFVsnF",
        "colab_type": "code",
        "colab": {}
      },
      "source": [
        "from sklearn.model_selection import (TimeSeriesSplit, KFold, ShuffleSplit,\n",
        "                                     StratifiedKFold, GroupShuffleSplit,\n",
        "                                     GroupKFold, StratifiedShuffleSplit)\n",
        "import numpy as np\n",
        "import matplotlib.pyplot as plt\n",
        "from matplotlib.patches import Patch\n",
        "np.random.seed(1338)\n",
        "cmap_data = plt.cm.Paired\n",
        "cmap_cv = plt.cm.coolwarm\n",
        "n_splits = 4"
      ],
      "execution_count": 15,
      "outputs": []
    },
    {
      "cell_type": "markdown",
      "metadata": {
        "id": "uxQzNCEWdLZ7",
        "colab_type": "text"
      },
      "source": [
        "**Visualize our data**"
      ]
    },
    {
      "cell_type": "code",
      "metadata": {
        "id": "Iml8Vw2TdHz6",
        "colab_type": "code",
        "colab": {
          "base_uri": "https://localhost:8080/",
          "height": 279
        },
        "outputId": "24923c51-1313-4541-c57f-98bf1702eba6"
      },
      "source": [
        "# Generate the class/group data\n",
        "n_points = 100\n",
        "X = np.random.randn(100, 10)\n",
        "\n",
        "percentiles_classes = [.1, .3, .6]\n",
        "y = np.hstack([[ii] * int(100 * perc)\n",
        "               for ii, perc in enumerate(percentiles_classes)])\n",
        "\n",
        "# Evenly spaced groups repeated once\n",
        "groups = np.hstack([[ii] * 10 for ii in range(10)])\n",
        "\n",
        "\n",
        "def visualize_groups(classes, groups, name):\n",
        "    # Visualize dataset groups\n",
        "    fig, ax = plt.subplots()\n",
        "    ax.scatter(range(len(groups)),  [.5] * len(groups), c=groups, marker='_',\n",
        "               lw=50, cmap=cmap_data)\n",
        "    ax.scatter(range(len(groups)),  [3.5] * len(groups), c=classes, marker='_',\n",
        "               lw=50, cmap=cmap_data)\n",
        "    ax.set(ylim=[-1, 5], yticks=[.5, 3.5],\n",
        "           yticklabels=['Data\\ngroup', 'Data\\nclass'], xlabel=\"Sample index\")\n",
        "\n",
        "\n",
        "visualize_groups(y, groups, 'no groups')"
      ],
      "execution_count": 16,
      "outputs": [
        {
          "output_type": "display_data",
          "data": {
            "image/png": "[encoded data removed]",
            "text/plain": [
              "<Figure size 432x288 with 1 Axes>"
            ]
          },
          "metadata": {
            "tags": [],
            "needs_background": "light"
          }
        }
      ]
    },
    {
      "cell_type": "markdown",
      "metadata": {
        "id": "1OkbmLBadb3J",
        "colab_type": "text"
      },
      "source": [
        "**Defining a function to visualize Cross-validation Behaviour**"
      ]
    },
    {
      "cell_type": "code",
      "metadata": {
        "id": "zFKDQuLudOoU",
        "colab_type": "code",
        "colab": {}
      },
      "source": [
        "def plot_cv_indices(cv, X, y, group, ax, n_splits, lw=10):\n",
        "    \"\"\"Create a sample plot for indices of a cross-validation object.\"\"\"\n",
        "\n",
        "    # Generate the training/testing visualizations for each CV split\n",
        "    for ii, (tr, tt) in enumerate(cv.split(X=X, y=y, groups=group)):\n",
        "        # Fill in indices with the training/test groups\n",
        "        indices = np.array([np.nan] * len(X))\n",
        "        indices[tt] = 1\n",
        "        indices[tr] = 0\n",
        "\n",
        "        # Visualize the results\n",
        "        ax.scatter(range(len(indices)), [ii + .5] * len(indices),\n",
        "                   c=indices, marker='_', lw=lw, cmap=cmap_cv,\n",
        "                   vmin=-.2, vmax=1.2)\n",
        "\n",
        "    # Plot the data classes and groups at the end\n",
        "    ax.scatter(range(len(X)), [ii + 1.5] * len(X),\n",
        "               c=y, marker='_', lw=lw, cmap=cmap_data)\n",
        "\n",
        "    ax.scatter(range(len(X)), [ii + 2.5] * len(X),\n",
        "               c=group, marker='_', lw=lw, cmap=cmap_data)\n",
        "\n",
        "    # Formatting\n",
        "    yticklabels = list(range(n_splits)) + ['class', 'group']\n",
        "    ax.set(yticks=np.arange(n_splits+2) + .5, yticklabels=yticklabels,\n",
        "           xlabel='Sample index', ylabel=\"CV iteration\",\n",
        "           ylim=[n_splits+2.2, -.2], xlim=[0, 100])\n",
        "    ax.set_title('{}'.format(type(cv).__name__), fontsize=15)\n",
        "    return ax"
      ],
      "execution_count": 17,
      "outputs": []
    },
    {
      "cell_type": "code",
      "metadata": {
        "id": "OaIH7akcdiaT",
        "colab_type": "code",
        "colab": {
          "base_uri": "https://localhost:8080/",
          "height": 314
        },
        "outputId": "956fb921-989c-4d73-eed2-10d3169f3907"
      },
      "source": [
        "fig, ax = plt.subplots()\n",
        "cv = KFold(n_splits)\n",
        "plot_cv_indices(cv, X, y, groups, ax, n_splits)"
      ],
      "execution_count": 18,
      "outputs": [
        {
          "output_type": "execute_result",
          "data": {
            "text/plain": [
              "<matplotlib.axes._subplots.AxesSubplot at 0x7fbc64deff98>"
            ]
          },
          "metadata": {
            "tags": []
          },
          "execution_count": 18
        },
        {
          "output_type": "display_data",
          "data": {
            "image/png": "[encoded data removed]",
            "text/plain": [
              "<Figure size 432x288 with 1 Axes>"
            ]
          },
          "metadata": {
            "tags": [],
            "needs_background": "light"
          }
        }
      ]
    },
    {
      "cell_type": "code",
      "metadata": {
        "id": "l39N14wQdku1",
        "colab_type": "code",
        "colab": {
          "base_uri": "https://localhost:8080/",
          "height": 314
        },
        "outputId": "fe99033e-53e1-4e9f-f33a-8fd7a79f1fce"
      },
      "source": [
        "fig, ax = plt.subplots()\n",
        "cv = StratifiedKFold(n_splits)\n",
        "plot_cv_indices(cv, X, y, groups, ax, n_splits)"
      ],
      "execution_count": 19,
      "outputs": [
        {
          "output_type": "execute_result",
          "data": {
            "text/plain": [
              "<matplotlib.axes._subplots.AxesSubplot at 0x7fbc607d8a58>"
            ]
          },
          "metadata": {
            "tags": []
          },
          "execution_count": 19
        },
        {
          "output_type": "display_data",
          "data": {
            "image/png": "[encoded data removed]",
            "text/plain": [
              "<Figure size 432x288 with 1 Axes>"
            ]
          },
          "metadata": {
            "tags": [],
            "needs_background": "light"
          }
        }
      ]
    },
    {
      "cell_type": "code",
      "metadata": {
        "id": "8YpRdJcmdpv4",
        "colab_type": "code",
        "colab": {
          "base_uri": "https://localhost:8080/",
          "height": 1000
        },
        "outputId": "05871717-4682-46c9-99bd-28539044fb14"
      },
      "source": [
        "cvs = [KFold, GroupKFold, ShuffleSplit, StratifiedKFold,\n",
        "       GroupShuffleSplit, StratifiedShuffleSplit, TimeSeriesSplit]\n",
        "\n",
        "\n",
        "for cv in cvs:\n",
        "    this_cv = cv(n_splits=n_splits)\n",
        "    fig, ax = plt.subplots(figsize=(6, 3))\n",
        "    plot_cv_indices(this_cv, X, y, groups, ax, n_splits)\n",
        "\n",
        "    ax.legend([Patch(color=cmap_cv(.8)), Patch(color=cmap_cv(.02))],\n",
        "              ['Testing set', 'Training set'], loc=(1.02, .8))\n",
        "    # Make the legend fit\n",
        "    plt.tight_layout()\n",
        "    fig.subplots_adjust(right=.7)\n",
        "plt.show()"
      ],
      "execution_count": 20,
      "outputs": [
        {
          "output_type": "display_data",
          "data": {
            "image/png": "[encoded data removed]",
            "text/plain": [
              "<Figure size 432x216 with 1 Axes>"
            ]
          },
          "metadata": {
            "tags": [],
            "needs_background": "light"
          }
        },
        {
          "output_type": "display_data",
          "data": {
            "image/png": "[encoded data removed]",
            "text/plain": [
              "<Figure size 432x216 with 1 Axes>"
            ]
          },
          "metadata": {
            "tags": [],
            "needs_background": "light"
          }
        },
        {
          "output_type": "display_data",
          "data": {
            "image/png": "[encoded data removed]",
            "text/plain": [
              "<Figure size 432x216 with 1 Axes>"
            ]
          },
          "metadata": {
            "tags": [],
            "needs_background": "light"
          }
        },
        {
          "output_type": "display_data",
          "data": {
            "image/png": "[encoded data removed]",
            "text/plain": [
              "<Figure size 432x216 with 1 Axes>"
            ]
          },
          "metadata": {
            "tags": [],
            "needs_background": "light"
          }
        },
        {
          "output_type": "display_data",
          "data": {
            "image/png": "[encoded data removed]",
            "text/plain": [
              "<Figure size 432x216 with 1 Axes>"
            ]
          },
          "metadata": {
            "tags": [],
            "needs_background": "light"
          }
        },
        {
          "output_type": "display_data",
          "data": {
            "image/png": "[encoded data removed]",
            "text/plain": [
              "<Figure size 432x216 with 1 Axes>"
            ]
          },
          "metadata": {
            "tags": [],
            "needs_background": "light"
          }
        },
        {
          "output_type": "display_data",
          "data": {
            "image/png": "[encoded data removed]",
            "text/plain": [
              "<Figure size 432x216 with 1 Axes>"
            ]
          },
          "metadata": {
            "tags": [],
            "needs_background": "light"
          }
        }
      ]
    }
  ]
}